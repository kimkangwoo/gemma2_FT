{
 "cells": [
  {
   "cell_type": "markdown",
   "metadata": {},
   "source": [
    "# AI HUB 데이터셋 정제"
   ]
  },
  {
   "cell_type": "markdown",
   "metadata": {},
   "source": [
    "### 저음질 전화망 음성인식 데이터\n",
    "- URL : https://www.aihub.or.kr/aihubdata/data/view.do?currMenu=115&topMenu=100&dataSetSn=571\n",
    "\n",
    "- 사용한 데이터 셋 : \n",
    "    1. `dataset/1.Training/라벨링데이터_230316/D02/J05`\n",
    "        - Training 데이터에서 창원시, 전주시 민원 데이터 중 복지 데이터 \n",
    "    2. `dataset/2.Validation/라벨링데이터_230316/D02/J05`\n",
    "        - Validation 데이터에서 창원시, 전주시 민원 데이터 중 복지 데이터 "
   ]
  },
  {
   "cell_type": "code",
   "execution_count": 1,
   "metadata": {},
   "outputs": [],
   "source": [
    "from glob import glob\n",
    "\n",
    "# 민원 데이터 중 복지 데이터 디렉터리 경로\n",
    "directory = glob('./J05/*/*.json')"
   ]
  },
  {
   "cell_type": "code",
   "execution_count": 2,
   "metadata": {},
   "outputs": [],
   "source": [
    "import json\n",
    "\n",
    "li = []\n",
    "\n",
    "# 파일 내용 읽기\n",
    "for file in directory:\n",
    "    with open(file, 'r', encoding='utf-8') as f:\n",
    "        data = json.load(f)\n",
    "        li.append(data)"
   ]
  },
  {
   "cell_type": "code",
   "execution_count": 3,
   "metadata": {},
   "outputs": [
    {
     "name": "stdout",
     "output_type": "stream",
     "text": [
      "추출된 데이터 갯수 : 8043\n"
     ]
    }
   ],
   "source": [
    "# 전체 데이터 경로 \n",
    "dialog = [i['dataSet']['dialogs'] for i in li]\n",
    "\n",
    "sentence = []\n",
    "for i in dialog:\n",
    "    sentence.append([{j['speaker']:j['text']} for j in i])\n",
    "print(\"추출된 데이터 갯수 :\", len(sentence))"
   ]
  },
  {
   "cell_type": "code",
   "execution_count": 4,
   "metadata": {},
   "outputs": [
    {
     "name": "stdout",
     "output_type": "stream",
     "text": [
      "현재 저장된 데이터 : 8043\n"
     ]
    }
   ],
   "source": [
    "# 대화 합치기 함수\n",
    "def merge_conversations(conversation):\n",
    "    merged_conversation = []\n",
    "    current_speaker = None\n",
    "    current_text = \"\"\n",
    "    \n",
    "    for line in conversation:\n",
    "        speaker, text = list(line.items())[0]  # 키와 값을 가져옴\n",
    "        \n",
    "        # 같은 사람이 말할 경우 대화를 이어붙임\n",
    "        if speaker == current_speaker:\n",
    "            current_text += \" \" + text\n",
    "        else:\n",
    "            # 다른 사람일 경우 현재 대화를 리스트에 추가하고 새로 시작\n",
    "            if current_speaker is not None:\n",
    "                merged_conversation.append({current_speaker: current_text})\n",
    "            current_speaker = speaker\n",
    "            current_text = text\n",
    "    \n",
    "    # 마지막 대화 추가\n",
    "    if current_speaker is not None:\n",
    "        merged_conversation.append({current_speaker: current_text})\n",
    "    \n",
    "    return merged_conversation\n",
    "\n",
    "# 대화 합치기 실행\n",
    "merged_conversation = [merge_conversations(i) for i in sentence]\n",
    "print(\"현재 저장된 데이터 :\", len(merged_conversation))"
   ]
  },
  {
   "cell_type": "code",
   "execution_count": 5,
   "metadata": {},
   "outputs": [],
   "source": [
    "# json 파일 이름\n",
    "JSON_NAME = \"civil.json\"\n",
    "\n",
    "# JSON 파일로 저장\n",
    "with open(JSON_NAME, 'w', encoding='utf-8') as f:\n",
    "    json.dump(merged_conversation, f, \n",
    "              ensure_ascii=False, \n",
    "              indent=4 # 들여쓰기\n",
    "              )"
   ]
  },
  {
   "cell_type": "code",
   "execution_count": 11,
   "metadata": {},
   "outputs": [
    {
     "data": {
      "text/plain": [
       "(263593, 149682)"
      ]
     },
     "execution_count": 11,
     "metadata": {},
     "output_type": "execute_result"
    }
   ],
   "source": [
    "# 원천 데이터 / 합친 데이터 \n",
    "len([j for i in sentence for j in i]), len([j for i in merged_conversation for j in i])"
   ]
  }
 ],
 "metadata": {
  "kernelspec": {
   "display_name": "gemma_env310",
   "language": "python",
   "name": "python3"
  },
  "language_info": {
   "codemirror_mode": {
    "name": "ipython",
    "version": 3
   },
   "file_extension": ".py",
   "mimetype": "text/x-python",
   "name": "python",
   "nbconvert_exporter": "python",
   "pygments_lexer": "ipython3",
   "version": "3.10.14"
  }
 },
 "nbformat": 4,
 "nbformat_minor": 2
}
